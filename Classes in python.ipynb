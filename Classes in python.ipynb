{
 "cells": [
  {
   "cell_type": "code",
   "execution_count": null,
   "metadata": {},
   "outputs": [],
   "source": [
    "\"\"\"\n",
    "    A class is a 'blueprint' to create 'objects'.  \n",
    "    A class has two things -\n",
    "        1. Variables \n",
    "        2. Methods/functions\n",
    "\"\"\""
   ]
  },
  {
   "cell_type": "code",
   "execution_count": 15,
   "metadata": {},
   "outputs": [],
   "source": [
    "# To define a class in python, we use the keyword 'class'\n",
    "class Person:\n",
    "    name = 'Sagar'\n",
    "    age = 25\n",
    "    def print_age(self):\n",
    "        print(self.age)"
   ]
  },
  {
   "cell_type": "code",
   "execution_count": 16,
   "metadata": {},
   "outputs": [],
   "source": [
    "# This is how we initialize an object of a class\n",
    "p1 = Person()\n",
    "p2 = Person()"
   ]
  },
  {
   "cell_type": "code",
   "execution_count": 17,
   "metadata": {},
   "outputs": [
    {
     "name": "stdout",
     "output_type": "stream",
     "text": [
      "<__main__.Person object at 0x000002121F34EF08>\n",
      "<__main__.Person object at 0x000002121F34EEC8>\n"
     ]
    }
   ],
   "source": [
    "print(p1)\n",
    "print(p2)"
   ]
  },
  {
   "cell_type": "code",
   "execution_count": 18,
   "metadata": {},
   "outputs": [
    {
     "name": "stdout",
     "output_type": "stream",
     "text": [
      "Sagar\n"
     ]
    }
   ],
   "source": [
    "print(p1.name)"
   ]
  },
  {
   "cell_type": "code",
   "execution_count": 19,
   "metadata": {},
   "outputs": [
    {
     "name": "stdout",
     "output_type": "stream",
     "text": [
      "Sagar\n"
     ]
    }
   ],
   "source": [
    "print(p2.name)"
   ]
  },
  {
   "cell_type": "code",
   "execution_count": 20,
   "metadata": {},
   "outputs": [
    {
     "name": "stdout",
     "output_type": "stream",
     "text": [
      "25\n"
     ]
    }
   ],
   "source": [
    "p1.print_age()"
   ]
  },
  {
   "cell_type": "code",
   "execution_count": 21,
   "metadata": {},
   "outputs": [
    {
     "name": "stdout",
     "output_type": "stream",
     "text": [
      "25\n"
     ]
    }
   ],
   "source": [
    "p2.print_age()"
   ]
  },
  {
   "cell_type": "code",
   "execution_count": 22,
   "metadata": {},
   "outputs": [],
   "source": [
    "# This is all useless till now. As p1 and p2 are both the same objects.\n",
    "# We need a way to define a person 'object' with the same template but initialize them with different names, ages etc.\n",
    "# We use the '__init__' function within a class to do that. It is called a 'CONSTRUCTOR'\n",
    "\n",
    "class Person:\n",
    "    def __init__(self, name, age):\n",
    "        self.name = name\n",
    "        self.age = age\n",
    "    \n",
    "    def print_age(self):\n",
    "        print(self.age)\n",
    "        "
   ]
  },
  {
   "cell_type": "code",
   "execution_count": 23,
   "metadata": {},
   "outputs": [],
   "source": [
    "p1 = Person('Sagar',25)"
   ]
  },
  {
   "cell_type": "code",
   "execution_count": 24,
   "metadata": {},
   "outputs": [],
   "source": [
    "p2 = Person('Sumedh',21)"
   ]
  },
  {
   "cell_type": "code",
   "execution_count": 25,
   "metadata": {},
   "outputs": [],
   "source": [
    "p3 = Person('Vansh',26)"
   ]
  },
  {
   "cell_type": "code",
   "execution_count": 27,
   "metadata": {},
   "outputs": [
    {
     "name": "stdout",
     "output_type": "stream",
     "text": [
      "25\n",
      "21\n",
      "26\n"
     ]
    }
   ],
   "source": [
    "p1.print_age()\n",
    "p2.print_age()\n",
    "p3.print_age()"
   ]
  },
  {
   "cell_type": "code",
   "execution_count": 29,
   "metadata": {},
   "outputs": [
    {
     "name": "stdout",
     "output_type": "stream",
     "text": [
      "Sagar\n",
      "Sumedh\n",
      "Vansh\n"
     ]
    }
   ],
   "source": [
    "print(p1.name)\n",
    "print(p2.name)\n",
    "print(p3.name)"
   ]
  },
  {
   "cell_type": "code",
   "execution_count": 33,
   "metadata": {},
   "outputs": [],
   "source": [
    "# Notice here how even though varibales are defined in the constructor we can still access them as variables defined before.\n",
    "# Is this because they are the same?\n",
    "# NO\n",
    "# This is because these are also variables, but are a special type called 'instance variables'.\n",
    "# They are different for each instance of a class.\n",
    "# The other type of varibales defined before are called 'class variables'. \n",
    "# They are defined once for the whole class and remain the same for each instance.\n",
    "\n",
    "class Person:\n",
    "    species = 'Human'\n",
    "    average_life_expectancy = 85\n",
    "    \n",
    "    def __init__(self, name, age):\n",
    "        self.name = name\n",
    "        self.age = age\n",
    "    \n",
    "    def print_age(self):\n",
    "        print(self.age)\n",
    "    \n",
    "    def show_details(self):\n",
    "        print(\"Name: \" +self.name+ \",\",\"Age: \" +str(self.age)+ \",\",\"Species: \" +self.species+ \",\",\"Average_life_expectancy: \" +str(self.average_life_expectancy))"
   ]
  },
  {
   "cell_type": "code",
   "execution_count": 34,
   "metadata": {},
   "outputs": [
    {
     "name": "stdout",
     "output_type": "stream",
     "text": [
      "Name: Sagar, Age: 25, Species: Human, Average_life_expectancy: 85\n",
      "Name: Sumedh, Age: 21, Species: Human, Average_life_expectancy: 85\n",
      "Name: Vansh, Age: 26, Species: Human, Average_life_expectancy: 85\n"
     ]
    }
   ],
   "source": [
    "p1 = Person('Sagar',25)\n",
    "p2 = Person('Sumedh',21)\n",
    "p3 = Person('Vansh',26)\n",
    "\n",
    "p1.show_details()\n",
    "p2.show_details()\n",
    "p3.show_details()"
   ]
  },
  {
   "cell_type": "code",
   "execution_count": 35,
   "metadata": {},
   "outputs": [
    {
     "name": "stdout",
     "output_type": "stream",
     "text": [
      "Name: Pragya, Age: 25, Species: Human, Average_life_expectancy: 85\n",
      "Name: Sumedh, Age: 22, Species: Human, Average_life_expectancy: 85\n",
      "Name: Vansh, Age: 26, Species: Human, Average_life_expectancy: 85\n"
     ]
    }
   ],
   "source": [
    "# You can also change the value of instance variables\n",
    "p1.name = 'Pragya'\n",
    "p2.age = 22\n",
    "p1.show_details()\n",
    "p2.show_details()\n",
    "p3.show_details()"
   ]
  },
  {
   "cell_type": "code",
   "execution_count": 39,
   "metadata": {},
   "outputs": [
    {
     "name": "stdout",
     "output_type": "stream",
     "text": [
      "Name: Pragya, Age: 25, Species: Ghost, Average_life_expectancy: 85\n",
      "Name: Sumedh, Age: 22, Species: Human, Average_life_expectancy: 85\n",
      "Name: Vansh, Age: 26, Species: Human, Average_life_expectancy: 85\n",
      "Name: Akshay, Age: 54, Species: Human, Average_life_expectancy: 70\n"
     ]
    }
   ],
   "source": [
    "# But what happens if you change class variables? Does it get changed for every object?\n",
    "p1.species = 'Ghost'\n",
    "p1.show_details()\n",
    "p2.show_details()\n",
    "p3.show_details()\n",
    "# No it does not get changed for all the objects that have been created.\n",
    "# What about new objects?\n",
    "p4 = Person('Akshay', 54)\n",
    "p4.average_life_expectancy = 70\n",
    "p4.show_details()\n",
    "\n",
    "# No it does not get changed. What does this mean?\n",
    "# Class variables are only used to repeat the same value for all classes. \n",
    "# You can change them for an 'object'= 'an instance of the class', without affecting the other objects."
   ]
  },
  {
   "cell_type": "code",
   "execution_count": 41,
   "metadata": {},
   "outputs": [],
   "source": [
    "## By now you know how to define a class,\n",
    "# What 'objects' are.\n",
    "# What 'class variables' are.\n",
    "# What 'instance variables' are.\n",
    "# What 'class methods' are.\n",
    "# Now we will focus on the concept of inheritance and private/public variables."
   ]
  },
  {
   "cell_type": "code",
   "execution_count": 71,
   "metadata": {},
   "outputs": [],
   "source": [
    "class account:\n",
    "    def __init__(self,url,username):\n",
    "        self.url = url\n",
    "        self.username = username\n",
    "        self.__password = 12345\n",
    "    def print_password(self):\n",
    "        print(self.__password)\n",
    "    "
   ]
  },
  {
   "cell_type": "code",
   "execution_count": 72,
   "metadata": {},
   "outputs": [
    {
     "name": "stdout",
     "output_type": "stream",
     "text": [
      "www.myaccount.com\n",
      "sagar\n",
      "12345\n",
      "None\n"
     ]
    },
    {
     "ename": "AttributeError",
     "evalue": "'account' object has no attribute '__password'",
     "output_type": "error",
     "traceback": [
      "\u001b[1;31m---------------------------------------------------------------------------\u001b[0m",
      "\u001b[1;31mAttributeError\u001b[0m                            Traceback (most recent call last)",
      "\u001b[1;32m<ipython-input-72-9ec753c047f4>\u001b[0m in \u001b[0;36m<module>\u001b[1;34m\u001b[0m\n\u001b[0;32m      3\u001b[0m \u001b[0mprint\u001b[0m\u001b[1;33m(\u001b[0m\u001b[0mmyaccount\u001b[0m\u001b[1;33m.\u001b[0m\u001b[0musername\u001b[0m\u001b[1;33m)\u001b[0m\u001b[1;33m\u001b[0m\u001b[1;33m\u001b[0m\u001b[0m\n\u001b[0;32m      4\u001b[0m \u001b[0mprint\u001b[0m\u001b[1;33m(\u001b[0m\u001b[0mmyaccount\u001b[0m\u001b[1;33m.\u001b[0m\u001b[0mprint_password\u001b[0m\u001b[1;33m(\u001b[0m\u001b[1;33m)\u001b[0m\u001b[1;33m)\u001b[0m\u001b[1;33m\u001b[0m\u001b[1;33m\u001b[0m\u001b[0m\n\u001b[1;32m----> 5\u001b[1;33m \u001b[0mprint\u001b[0m\u001b[1;33m(\u001b[0m\u001b[0mmyaccount\u001b[0m\u001b[1;33m.\u001b[0m\u001b[0m__password\u001b[0m\u001b[1;33m)\u001b[0m \u001b[1;31m# Private variable. Can only be accessed through the class instance.\u001b[0m\u001b[1;33m\u001b[0m\u001b[1;33m\u001b[0m\u001b[0m\n\u001b[0m",
      "\u001b[1;31mAttributeError\u001b[0m: 'account' object has no attribute '__password'"
     ]
    }
   ],
   "source": [
    "myaccount = account('www.myaccount.com','sagar')\n",
    "print(myaccount.url)\n",
    "print(myaccount.username)\n",
    "print(myaccount.print_password())\n",
    "print(myaccount.__password) # Private variable. Can only be accessed through the class instance."
   ]
  },
  {
   "cell_type": "code",
   "execution_count": 73,
   "metadata": {},
   "outputs": [],
   "source": [
    "class github_account(account):  # Inherit everything from account\n",
    "    def __init__(self,username):\n",
    "        account.__init__(self,'www.github.com',username)\n",
    "        "
   ]
  },
  {
   "cell_type": "code",
   "execution_count": 74,
   "metadata": {},
   "outputs": [],
   "source": [
    "g = github_account('sagar')"
   ]
  },
  {
   "cell_type": "code",
   "execution_count": 75,
   "metadata": {},
   "outputs": [
    {
     "name": "stdout",
     "output_type": "stream",
     "text": [
      "sagar\n",
      "www.github.com\n"
     ]
    }
   ],
   "source": [
    "print(g.username)\n",
    "print(g.url)"
   ]
  },
  {
   "cell_type": "code",
   "execution_count": 76,
   "metadata": {},
   "outputs": [
    {
     "ename": "AttributeError",
     "evalue": "'github_account' object has no attribute '__password'",
     "output_type": "error",
     "traceback": [
      "\u001b[1;31m---------------------------------------------------------------------------\u001b[0m",
      "\u001b[1;31mAttributeError\u001b[0m                            Traceback (most recent call last)",
      "\u001b[1;32m<ipython-input-76-a71602b73f27>\u001b[0m in \u001b[0;36m<module>\u001b[1;34m\u001b[0m\n\u001b[1;32m----> 1\u001b[1;33m \u001b[0mprint\u001b[0m\u001b[1;33m(\u001b[0m\u001b[0mg\u001b[0m\u001b[1;33m.\u001b[0m\u001b[0m__password\u001b[0m\u001b[1;33m)\u001b[0m\u001b[1;33m\u001b[0m\u001b[1;33m\u001b[0m\u001b[0m\n\u001b[0m",
      "\u001b[1;31mAttributeError\u001b[0m: 'github_account' object has no attribute '__password'"
     ]
    }
   ],
   "source": [
    "print(g.__password)"
   ]
  },
  {
   "cell_type": "code",
   "execution_count": null,
   "metadata": {},
   "outputs": [],
   "source": [
    "## Now create a library class where:\n",
    "# Each library has a list of books, a location, a membership fee\n",
    "# Library has a function to add books\n",
    "# Library has a function to search books by name\n",
    "# Library has a function to search books by ISBN\n",
    "# Library has a function to search books by author_name\n",
    "# Library has a function to search books below a price.\n",
    "# Library has a function to search books above a price.\n",
    "# Each book has a name, price, ISBN, author_name"
   ]
  },
  {
   "cell_type": "code",
   "execution_count": null,
   "metadata": {},
   "outputs": [],
   "source": []
  }
 ],
 "metadata": {
  "kernelspec": {
   "display_name": "Python 3",
   "language": "python",
   "name": "python3"
  },
  "language_info": {
   "codemirror_mode": {
    "name": "ipython",
    "version": 3
   },
   "file_extension": ".py",
   "mimetype": "text/x-python",
   "name": "python",
   "nbconvert_exporter": "python",
   "pygments_lexer": "ipython3",
   "version": "3.7.6"
  }
 },
 "nbformat": 4,
 "nbformat_minor": 4
}
