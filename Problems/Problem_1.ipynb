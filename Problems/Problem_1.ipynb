{
 "cells": [
  {
   "cell_type": "markdown",
   "metadata": {},
   "source": [
    "# Problem 1 -\n",
    "***\n",
    "**Write a python script that - <img src=\"P1_formula.jpg\" width=\"240\" height=\"240\" align=\"right\"/>**  \n",
    "1. Says \"Hi\" to the user.   \n",
    "2. Asks the user for his/her **Name (string), age (integer), weight (float)(kgs) and height (integer)(kg)**.   \n",
    "3. Calculates the user's BMI. Formula can be found on the right.  \n",
    "4. Prints **(\"Thank you &lt;Name&gt;, for your input. Your BMI is &lt;Calculated value&gt;.\")**    \n",
    "5. Checks which category his/her BMI is in.     \n",
    "   *{Underweight (<18.0), Normal(18.0 - 24.99), Overweight(>25.0)}* and based on that -  \n",
    "   - suggests him/her to have dietary supplemets to increase weight,  \n",
    "   - congratulate him/her or  \n",
    "   - ask them to start exercising.  \n"
   ]
  },
  {
   "cell_type": "code",
   "execution_count": null,
   "metadata": {},
   "outputs": [],
   "source": [
    "def BMI_calculator():\n",
    "    ## Write your function here\n",
    "    print(\"Calculating your BMI\")\n",
    "    return(0)\n",
    "\n",
    "if __name__ =='__main__':\n",
    "    BMI_calculator()"
   ]
  },
  {
   "cell_type": "code",
   "execution_count": null,
   "metadata": {},
   "outputs": [],
   "source": []
  }
 ],
 "metadata": {
  "kernelspec": {
   "display_name": "Python 3",
   "language": "python",
   "name": "python3"
  },
  "language_info": {
   "codemirror_mode": {
    "name": "ipython",
    "version": 3
   },
   "file_extension": ".py",
   "mimetype": "text/x-python",
   "name": "python",
   "nbconvert_exporter": "python",
   "pygments_lexer": "ipython3",
   "version": "3.8.2"
  }
 },
 "nbformat": 4,
 "nbformat_minor": 4
}
