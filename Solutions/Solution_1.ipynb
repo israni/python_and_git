{
 "cells": [
  {
   "cell_type": "markdown",
   "metadata": {},
   "source": [
    "# Problem 1 -\n",
    "***\n",
    "**Write a python script that - <img src=\"P1_formula.jpg\" width=\"240\" height=\"240\" align=\"right\"/>**  \n",
    "1. Says \"Hi\" to the user.   \n",
    "2. Asks the user for his/her **Name (string), age (integer), weight (float)(kgs) and height (float)(cm)**.   \n",
    "3. Calculates the user's BMI. Formula can be found on the right. Round it off to 2 decimal points.\n",
    "4. Prints **(\"Thank you &lt;Name&gt;, for your input. Your BMI is &lt;Calculated value&gt;.\")**    \n",
    "5. Checks which category his/her BMI is in.     \n",
    "   *{Underweight (<18.0), Normal(18.0 - 24.99), Overweight(>25.0)}* and based on that -  \n",
    "   - suggests him/her to have dietary supplemets to increase weight,  \n",
    "   - congratulate him/her or  \n",
    "   - ask them to start exercising.  \n"
   ]
  },
  {
   "cell_type": "code",
   "execution_count": 1,
   "metadata": {},
   "outputs": [],
   "source": [
    "def BMI_calculator():\n",
    "    ## Write your function here\n",
    "    print (\"Hi User \\nPlease provide the following details:\")\n",
    "    Name=input(\"Enter your name: \")\n",
    "    Age=int(input(\"Enter your age: \"))\n",
    "    Weight=float(input(\"Enter your weight in kg: \"))\n",
    "    Height=float(input(\"Enter your height in cm: \"))\n",
    "    print(\"Thank you\",Name, \"for your input.\")\n",
    "    \n",
    "    BMI=round(Weight/((Height/100)**2),2)\n",
    "    print(\"Your BMI is \", BMI)\n",
    "    \n",
    "    if BMI<18.0:\n",
    "        print(\"Have dietary supplements to increase weight\")\n",
    "    if BMI>=18.0 and BMI<25.0:\n",
    "        print(\"Congratulations\")\n",
    "    if BMI>=25.0:\n",
    "        print(\"Start exercising\")\n",
    "     \n"
   ]
  },
  {
   "cell_type": "code",
   "execution_count": 2,
   "metadata": {},
   "outputs": [
    {
     "name": "stdout",
     "output_type": "stream",
     "text": [
      "Hi User \n",
      "Please provide the following details:\n",
      "Enter your name: Pragya\n",
      "Enter your age: 26\n",
      "Enter your weight in kg: 60\n",
      "Enter your height in cm: 165\n",
      "Thank you Pragya for your input.\n",
      "Your BMI is  22.04\n",
      "Congratulations\n"
     ]
    }
   ],
   "source": [
    "# if __name__ =='__main__':\n",
    "BMI_calculator()"
   ]
  },
  {
   "cell_type": "code",
   "execution_count": null,
   "metadata": {},
   "outputs": [],
   "source": []
  }
 ],
 "metadata": {
  "kernelspec": {
   "display_name": "Python 3",
   "language": "python",
   "name": "python3"
  },
  "language_info": {
   "codemirror_mode": {
    "name": "ipython",
    "version": 3
   },
   "file_extension": ".py",
   "mimetype": "text/x-python",
   "name": "python",
   "nbconvert_exporter": "python",
   "pygments_lexer": "ipython3",
   "version": "3.7.7"
  }
 },
 "nbformat": 4,
 "nbformat_minor": 4
}
