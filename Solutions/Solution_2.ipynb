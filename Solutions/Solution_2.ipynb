{
 "cells": [
  {
   "cell_type": "code",
   "execution_count": null,
   "metadata": {},
   "outputs": [],
   "source": [
    "# This problem requires the use of dictionaries.  \n",
    "# Given a string, calculate the number of times each character has appeared in it \n",
    "# and return the 3 most repeated characters in a list.  \n",
    "# eg. For the following input,\n",
    "#        'aabbccdddeeeeeffgggghhiiijjjj'\n",
    "# The output should be [e,g,j]    \n",
    "# As a second output, return the frequency of each of these characters.\n",
    "# For the above input, this would be\n",
    "# {'e': 5, 'g' : 4, 'j': 4}"
   ]
  },
  {
   "cell_type": "code",
   "execution_count": 55,
   "metadata": {},
   "outputs": [],
   "source": [
    "def return_3_most_repeated(s):\n",
    "    ## Write your code here\n",
    "    print(s)\n",
    "        \n",
    "    d={}\n",
    "    \n",
    "    for c in s:\n",
    "        if c in d:\n",
    "            d[c]=d[c]+1\n",
    "        else:\n",
    "            d[c]=1\n",
    "    \n",
    "    print(d)\n",
    "    print(d.items()) # returns a list of tuples\n",
    "    print(d.keys()) # returns a list of keys\n",
    "    print(d.values()) # returns a list of values\n",
    "    \n",
    "    print(sorted(d))\n",
    "    print(sorted(d.items()))\n",
    "    print(sorted(d.keys()))\n",
    "    print(sorted(d.values()))\n",
    "\n",
    "    \n",
    "    print(sorted(d.items(), key = lambda x:(x[1],x[0]), reverse=True)) #swapping positions of d.items()\n",
    "    list_of_tuples=(sorted(d.items(), key = lambda x:(x[1],x[0]), reverse=True))\n",
    "    \n",
    "    list1 = []\n",
    "    \n",
    "    for i in range(0,3):\n",
    "        list1.append(list_of_tuples[i][0])\n",
    "        print(list1)\n",
    "\n",
    "    d2={}\n",
    "    \n",
    "    for i in range(0,3):\n",
    "        d2[list_of_tuples[i][0]] = list_of_tuples[i][1]\n",
    "#         d2['key'] = value\n",
    "    \n",
    "    print(d2)\n",
    "    \n",
    "        \n",
    "    return(list1, d2)\n",
    "\n"
   ]
  },
  {
   "cell_type": "code",
   "execution_count": 56,
   "metadata": {},
   "outputs": [
    {
     "name": "stdout",
     "output_type": "stream",
     "text": [
      "aabbccdddeeeeeffgggghhiiijjjj\n",
      "{'a': 2, 'b': 2, 'c': 2, 'd': 3, 'e': 5, 'f': 2, 'g': 4, 'h': 2, 'i': 3, 'j': 4}\n",
      "dict_items([('a', 2), ('b', 2), ('c', 2), ('d', 3), ('e', 5), ('f', 2), ('g', 4), ('h', 2), ('i', 3), ('j', 4)])\n",
      "dict_keys(['a', 'b', 'c', 'd', 'e', 'f', 'g', 'h', 'i', 'j'])\n",
      "dict_values([2, 2, 2, 3, 5, 2, 4, 2, 3, 4])\n",
      "['a', 'b', 'c', 'd', 'e', 'f', 'g', 'h', 'i', 'j']\n",
      "[('a', 2), ('b', 2), ('c', 2), ('d', 3), ('e', 5), ('f', 2), ('g', 4), ('h', 2), ('i', 3), ('j', 4)]\n",
      "['a', 'b', 'c', 'd', 'e', 'f', 'g', 'h', 'i', 'j']\n",
      "[2, 2, 2, 2, 2, 3, 3, 4, 4, 5]\n",
      "[('e', 5), ('j', 4), ('g', 4), ('i', 3), ('d', 3), ('h', 2), ('f', 2), ('c', 2), ('b', 2), ('a', 2)]\n",
      "['e']\n",
      "['e', 'j']\n",
      "['e', 'j', 'g']\n",
      "{'e': 5, 'j': 4, 'g': 4}\n",
      "['e', 'j', 'g'] {'e': 5, 'j': 4, 'g': 4}\n"
     ]
    }
   ],
   "source": [
    "if __name__ == '__main__':\n",
    "    list_3_most_repeated, dictionary_3_most_repeated = return_3_most_repeated(\"aabbccdddeeeeeffgggghhiiijjjj\")\n",
    "    print(list_3_most_repeated, dictionary_3_most_repeated)"
   ]
  },
  {
   "cell_type": "code",
   "execution_count": null,
   "metadata": {},
   "outputs": [],
   "source": []
  }
 ],
 "metadata": {
  "kernelspec": {
   "display_name": "Python 3",
   "language": "python",
   "name": "python3"
  },
  "language_info": {
   "codemirror_mode": {
    "name": "ipython",
    "version": 3
   },
   "file_extension": ".py",
   "mimetype": "text/x-python",
   "name": "python",
   "nbconvert_exporter": "python",
   "pygments_lexer": "ipython3",
   "version": "3.7.7"
  }
 },
 "nbformat": 4,
 "nbformat_minor": 4
}
